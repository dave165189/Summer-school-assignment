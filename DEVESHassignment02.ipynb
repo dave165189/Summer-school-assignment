{
  "nbformat": 4,
  "nbformat_minor": 0,
  "metadata": {
    "colab": {
      "provenance": [],
      "authorship_tag": "ABX9TyPuoqmEdlwEPBWJoYPwyH5n",
      "include_colab_link": true
    },
    "kernelspec": {
      "name": "python3",
      "display_name": "Python 3"
    },
    "language_info": {
      "name": "python"
    }
  },
  "cells": [
    {
      "cell_type": "markdown",
      "metadata": {
        "id": "view-in-github",
        "colab_type": "text"
      },
      "source": [
        "<a href=\"https://colab.research.google.com/github/dave165189/Summer-school-assignment/blob/main/DEVESHassignment02.ipynb\" target=\"_parent\"><img src=\"https://colab.research.google.com/assets/colab-badge.svg\" alt=\"Open In Colab\"/></a>"
      ]
    },
    {
      "cell_type": "code",
      "execution_count": null,
      "metadata": {
        "colab": {
          "base_uri": "https://localhost:8080/"
        },
        "id": "GRUkBKRnNs3N",
        "outputId": "cb01c36f-cdce-4008-bd7f-4ca552c3ea9f"
      },
      "outputs": [
        {
          "output_type": "stream",
          "name": "stdout",
          "text": [
            "Original list: ['Ram', 1, 'Shyam', 2, 'Aman', 3]\n",
            "Sorted list: [1, 2, 3, 'Aman', 'Ram', 'Shyam']\n"
          ]
        }
      ],
      "source": [
        "L = [\"Ram\", 1, \"Shyam\", 2, \"Aman\", 3]\n",
        "print(\"Original list:\", L)\n",
        "\n",
        "sorted_list = sorted(L, key=lambda x: str(x))\n",
        "print(\"Sorted list:\", sorted_list)"
      ]
    }
  ]
}