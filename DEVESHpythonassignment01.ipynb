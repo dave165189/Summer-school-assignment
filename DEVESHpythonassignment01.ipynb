{
  "nbformat": 4,
  "nbformat_minor": 0,
  "metadata": {
    "colab": {
      "provenance": [],
      "authorship_tag": "ABX9TyOwZ2kDrpDAGj13ftU5dsWl",
      "include_colab_link": true
    },
    "kernelspec": {
      "name": "python3",
      "display_name": "Python 3"
    },
    "language_info": {
      "name": "python"
    }
  },
  "cells": [
    {
      "cell_type": "markdown",
      "metadata": {
        "id": "view-in-github",
        "colab_type": "text"
      },
      "source": [
        "<a href=\"https://colab.research.google.com/github/dave165189/Summer-school-assignment/blob/main/DEVESHpythonassignment01.ipynb\" target=\"_parent\"><img src=\"https://colab.research.google.com/assets/colab-badge.svg\" alt=\"Open In Colab\"/></a>"
      ]
    },
    {
      "cell_type": "markdown",
      "source": [
        "###**python assignment**"
      ],
      "metadata": {
        "id": "muknZzsEx7Q0"
      }
    },
    {
      "cell_type": "code",
      "source": [
        "# question 1 \n",
        "\n",
        "L = [11,12,13,14]\n",
        "print(L)"
      ],
      "metadata": {
        "colab": {
          "base_uri": "https://localhost:8080/"
        },
        "id": "fWkNjbF42o-i",
        "outputId": "c8bce1e0-13dd-4ac8-ce46-21bc24477243"
      },
      "execution_count": null,
      "outputs": [
        {
          "output_type": "stream",
          "name": "stdout",
          "text": [
            "[11, 12, 13, 14]\n"
          ]
        }
      ]
    },
    {
      "cell_type": "code",
      "source": [
        "# i. WAP to add 50 and 60 to L.\n",
        "\n",
        "L.append(50)\n",
        "L.append(60)\n",
        "\n",
        "print(L)\n",
        "\n"
      ],
      "metadata": {
        "colab": {
          "base_uri": "https://localhost:8080/"
        },
        "id": "P7e-rkHT2y6A",
        "outputId": "919e3546-23f3-42d4-fd54-8a17314bd8f3"
      },
      "execution_count": null,
      "outputs": [
        {
          "output_type": "stream",
          "name": "stdout",
          "text": [
            "[11, 12, 13, 14, 50, 60]\n"
          ]
        }
      ]
    },
    {
      "cell_type": "code",
      "source": [
        "# ii. WAP to remove 11 and 13 from L.\n",
        "\n",
        "L.remove(11)\n",
        "L.remove(13)\n",
        "\n",
        "print(L)"
      ],
      "metadata": {
        "colab": {
          "base_uri": "https://localhost:8080/"
        },
        "id": "rwvSYqpA2_WB",
        "outputId": "f7d92626-22b0-408a-b036-4d98b8fb003f"
      },
      "execution_count": null,
      "outputs": [
        {
          "output_type": "stream",
          "name": "stdout",
          "text": [
            "[12, 14, 50, 60]\n"
          ]
        }
      ]
    },
    {
      "cell_type": "code",
      "source": [
        "# iii WAP to sort L in ascending order.\n",
        "\n",
        "L.sort()\n",
        "\n",
        "print(L)"
      ],
      "metadata": {
        "colab": {
          "base_uri": "https://localhost:8080/"
        },
        "id": "47K3--2F3ODQ",
        "outputId": "86453640-5ce0-4468-b054-3c32c903a75d"
      },
      "execution_count": null,
      "outputs": [
        {
          "output_type": "stream",
          "name": "stdout",
          "text": [
            "[12, 14, 50, 60]\n"
          ]
        }
      ]
    },
    {
      "cell_type": "code",
      "source": [
        "# iv. WAP to sort L in descending order.\n",
        "\n",
        "L.sort(reverse=True)\n",
        "\n",
        "print(L)"
      ],
      "metadata": {
        "colab": {
          "base_uri": "https://localhost:8080/"
        },
        "id": "6lSvj8yQ3c-F",
        "outputId": "6bf658c9-e2ad-4d53-f397-52d151889f8f"
      },
      "execution_count": null,
      "outputs": [
        {
          "output_type": "stream",
          "name": "stdout",
          "text": [
            "[60, 50, 14, 12]\n"
          ]
        }
      ]
    },
    {
      "cell_type": "code",
      "source": [
        "# v. WAP to search for 13 in L.\n",
        "\n",
        "print(L.index(14))"
      ],
      "metadata": {
        "colab": {
          "base_uri": "https://localhost:8080/"
        },
        "id": "XpwJrl5j3leU",
        "outputId": "6a5c80d1-e50e-4bc5-ab39-6ad74c42c726"
      },
      "execution_count": null,
      "outputs": [
        {
          "output_type": "stream",
          "name": "stdout",
          "text": [
            "2\n"
          ]
        }
      ]
    },
    {
      "cell_type": "code",
      "source": [
        "# vi. WAP to count the number of elements present in L.\n",
        "\n",
        "print(len(L))"
      ],
      "metadata": {
        "colab": {
          "base_uri": "https://localhost:8080/"
        },
        "id": "R1tecIlD3qVg",
        "outputId": "b0d2c59f-9a51-4d84-d346-4f9b7f0d6015"
      },
      "execution_count": null,
      "outputs": [
        {
          "output_type": "stream",
          "name": "stdout",
          "text": [
            "4\n"
          ]
        }
      ]
    },
    {
      "cell_type": "code",
      "source": [
        "# vii. WAP to sum all the elements in L.\n",
        "\n",
        "sum(L)"
      ],
      "metadata": {
        "colab": {
          "base_uri": "https://localhost:8080/"
        },
        "id": "JwsTobHI3vGT",
        "outputId": "c2722371-53ca-4ef9-a599-b081134c7e2d"
      },
      "execution_count": null,
      "outputs": [
        {
          "output_type": "execute_result",
          "data": {
            "text/plain": [
              "136"
            ]
          },
          "metadata": {},
          "execution_count": 15
        }
      ]
    },
    {
      "cell_type": "code",
      "source": [
        "# viii. WAP to sum all ODD numbers in L.\n",
        "\n",
        "sum(x for x in L if x%2)"
      ],
      "metadata": {
        "colab": {
          "base_uri": "https://localhost:8080/"
        },
        "id": "Oui53k5i3-lB",
        "outputId": "98367288-aab4-4e66-8ed3-b83e5df05315"
      },
      "execution_count": null,
      "outputs": [
        {
          "output_type": "execute_result",
          "data": {
            "text/plain": [
              "0"
            ]
          },
          "metadata": {},
          "execution_count": 16
        }
      ]
    },
    {
      "cell_type": "code",
      "source": [
        "# ix. WAP to sum all EVEN numbers in L.\n",
        "\n",
        "sum(x for x in L if not x%2)"
      ],
      "metadata": {
        "colab": {
          "base_uri": "https://localhost:8080/"
        },
        "id": "FqRbAAzl4DIE",
        "outputId": "d8005014-ad7e-4647-dd20-75d1c37a2d4e"
      },
      "execution_count": null,
      "outputs": [
        {
          "output_type": "execute_result",
          "data": {
            "text/plain": [
              "136"
            ]
          },
          "metadata": {},
          "execution_count": 17
        }
      ]
    },
    {
      "cell_type": "code",
      "source": [
        "# x. WAP to sum all PRIME numbers in L.\n",
        "from math import sqrt\n",
        "def isprime(n):\n",
        "    prime_flag = 0\n",
        "\n",
        "    if(n > 1):\n",
        "        for i in range(2, int(sqrt(n)) + 1):\n",
        "            if (n % i == 0):\n",
        "                prime_flag = 1\n",
        "                break\n",
        "        if (prime_flag == 0):\n",
        "            return True\n",
        "        else:\n",
        "            return False\n",
        "    else:\n",
        "        return False\n",
        "\n",
        "sum(x for x in L if isprime(x))"
      ],
      "metadata": {
        "colab": {
          "base_uri": "https://localhost:8080/"
        },
        "id": "G1V4xXFj4MCL",
        "outputId": "a7cce37b-c1c9-4dc6-d1c2-76dab0f47887"
      },
      "execution_count": null,
      "outputs": [
        {
          "output_type": "execute_result",
          "data": {
            "text/plain": [
              "0"
            ]
          },
          "metadata": {},
          "execution_count": 18
        }
      ]
    },
    {
      "cell_type": "code",
      "source": [
        "# xi. WAP to clear all the elements in L.\n",
        "\n",
        "L.clear()\n",
        "print(L)"
      ],
      "metadata": {
        "colab": {
          "base_uri": "https://localhost:8080/"
        },
        "id": "0_0zwRXt4UpS",
        "outputId": "f02a2a5f-64d4-44be-90ae-3df502200647"
      },
      "execution_count": null,
      "outputs": [
        {
          "output_type": "stream",
          "name": "stdout",
          "text": [
            "[]\n"
          ]
        }
      ]
    },
    {
      "cell_type": "code",
      "source": [
        "# xii. WAP to delete L.\n",
        "del L\n",
        "# print(L)\n"
      ],
      "metadata": {
        "id": "UkuWKYWx44T_"
      },
      "execution_count": null,
      "outputs": []
    },
    {
      "cell_type": "code",
      "source": [
        "# Question 2\n",
        "\n",
        "D= {1:5.6, 2:7.8, 3:6.6, 4:8.7, 5:7.7}\n",
        "print(D)\n",
        "print(type(D))"
      ],
      "metadata": {
        "colab": {
          "base_uri": "https://localhost:8080/"
        },
        "id": "H1Iifamv5IBO",
        "outputId": "5a26949c-86ed-4ce3-d269-c0ce0f90b61e"
      },
      "execution_count": null,
      "outputs": [
        {
          "output_type": "stream",
          "name": "stdout",
          "text": [
            "{1: 5.6, 2: 7.8, 3: 6.6, 4: 8.7, 5: 7.7}\n",
            "<class 'dict'>\n"
          ]
        }
      ]
    },
    {
      "cell_type": "code",
      "source": [
        "# i. WAP to add new entry in D; key=8 and value is 8.8\n",
        "\n",
        "D[8]=8.8\n",
        "print(D)"
      ],
      "metadata": {
        "colab": {
          "base_uri": "https://localhost:8080/"
        },
        "id": "6yy7yd915Qv7",
        "outputId": "3415549b-ab23-49bc-a44b-338df48044de"
      },
      "execution_count": null,
      "outputs": [
        {
          "output_type": "stream",
          "name": "stdout",
          "text": [
            "{1: 5.6, 2: 7.8, 3: 6.6, 4: 8.7, 5: 7.7, 8: 8.8}\n"
          ]
        }
      ]
    },
    {
      "cell_type": "code",
      "source": [
        "# ii. WAP to remove key=2.\n",
        "\n",
        "del D[2]\n",
        "print(D)"
      ],
      "metadata": {
        "colab": {
          "base_uri": "https://localhost:8080/"
        },
        "id": "5GhRbSWx5W5Z",
        "outputId": "616c5264-9b24-4750-c557-99a184ff1a5c"
      },
      "execution_count": null,
      "outputs": [
        {
          "output_type": "stream",
          "name": "stdout",
          "text": [
            "{1: 5.6, 3: 6.6, 4: 8.7, 5: 7.7, 8: 8.8}\n"
          ]
        }
      ]
    },
    {
      "cell_type": "code",
      "source": [
        "# iii. WAP to check weather 6 key is present in D.\n",
        "if 6 in D.keys():\n",
        "    print(\"It is present\")\n",
        "else:\n",
        "    print(\"It is not present\")"
      ],
      "metadata": {
        "colab": {
          "base_uri": "https://localhost:8080/"
        },
        "id": "2ta4zz7V5bHM",
        "outputId": "5d9e39fd-4dcd-48c4-8c62-70519f37be53"
      },
      "execution_count": null,
      "outputs": [
        {
          "output_type": "stream",
          "name": "stdout",
          "text": [
            "It is not present\n"
          ]
        }
      ]
    },
    {
      "cell_type": "code",
      "source": [
        "# iv. WAP to count the number of elements present in D.\n",
        "\n",
        "print(len(D))"
      ],
      "metadata": {
        "colab": {
          "base_uri": "https://localhost:8080/"
        },
        "id": "Z7UcFb9T5hqu",
        "outputId": "236349d8-899e-4fbb-dd21-7adc4401d2b0"
      },
      "execution_count": null,
      "outputs": [
        {
          "output_type": "stream",
          "name": "stdout",
          "text": [
            "5\n"
          ]
        }
      ]
    },
    {
      "cell_type": "code",
      "source": [
        "# v. WAP to add all the values present D.\n",
        "\n",
        "sum(D.values())"
      ],
      "metadata": {
        "colab": {
          "base_uri": "https://localhost:8080/"
        },
        "id": "tjo9v5H95nUn",
        "outputId": "743e2ef7-0ed6-497a-df95-7e69ff3eea5d"
      },
      "execution_count": null,
      "outputs": [
        {
          "output_type": "execute_result",
          "data": {
            "text/plain": [
              "37.4"
            ]
          },
          "metadata": {},
          "execution_count": 32
        }
      ]
    },
    {
      "cell_type": "code",
      "source": [
        "# vi. WAP to update the value of 3 to 7.1.\n",
        "\n",
        "D[3] = 7.1\n",
        "print(D)"
      ],
      "metadata": {
        "colab": {
          "base_uri": "https://localhost:8080/"
        },
        "id": "zNj1HA4B5tMj",
        "outputId": "8ab55db3-095a-4d7c-e49f-513da4a6356d"
      },
      "execution_count": null,
      "outputs": [
        {
          "output_type": "stream",
          "name": "stdout",
          "text": [
            "{1: 5.6, 3: 7.1, 4: 8.7, 5: 7.7, 8: 8.8}\n"
          ]
        }
      ]
    },
    {
      "cell_type": "code",
      "source": [
        "# vii. WAP to clear the dictionary.\n",
        "\n",
        "D.clear()\n",
        "print(D)"
      ],
      "metadata": {
        "colab": {
          "base_uri": "https://localhost:8080/"
        },
        "id": "65iJE4sy527U",
        "outputId": "6ec39432-a3d4-4d33-9c26-5a7ae2743423"
      },
      "execution_count": null,
      "outputs": [
        {
          "output_type": "stream",
          "name": "stdout",
          "text": [
            "{}\n"
          ]
        }
      ]
    },
    {
      "cell_type": "code",
      "source": [
        "# Question 3\n",
        "S1 = {10,20,30,40,50,60}\n",
        "print(S1)\n",
        "print(type(S1))\n",
        "\n",
        "S2= {40, 50, 60, 70, 80, 90}\n",
        "print(S2)\n",
        "print(type(S2))"
      ],
      "metadata": {
        "colab": {
          "base_uri": "https://localhost:8080/"
        },
        "id": "6Elv8avB6F90",
        "outputId": "94aacfbb-baa8-49fa-a6ea-5e60be88b859"
      },
      "execution_count": null,
      "outputs": [
        {
          "output_type": "stream",
          "name": "stdout",
          "text": [
            "{50, 20, 40, 10, 60, 30}\n",
            "<class 'set'>\n",
            "{80, 50, 70, 40, 90, 60}\n",
            "<class 'set'>\n"
          ]
        }
      ]
    },
    {
      "cell_type": "code",
      "source": [
        "# i. WAP to add 55 and 66 in Set S1.\n",
        "\n",
        "S1.add(55)\n",
        "S1.add(66)\n",
        "print(S1)"
      ],
      "metadata": {
        "colab": {
          "base_uri": "https://localhost:8080/"
        },
        "id": "dwsqitIU7BZT",
        "outputId": "ecad32e2-c302-4a53-d8cb-ac0aff38735c"
      },
      "execution_count": null,
      "outputs": [
        {
          "output_type": "stream",
          "name": "stdout",
          "text": [
            "{50, 66, 20, 55, 40, 10, 60, 30}\n"
          ]
        }
      ]
    },
    {
      "cell_type": "code",
      "source": [
        "# ii. WAP to remove 10 and 30 from Set S1.\n",
        "\n",
        "S1.remove(10)\n",
        "S1.remove(30)\n",
        "print(S1)"
      ],
      "metadata": {
        "colab": {
          "base_uri": "https://localhost:8080/"
        },
        "id": "zeOLZ5N87GFq",
        "outputId": "aaac1c1e-849a-4dc9-fba1-8d81d22840bc"
      },
      "execution_count": null,
      "outputs": [
        {
          "output_type": "stream",
          "name": "stdout",
          "text": [
            "{50, 66, 20, 55, 40, 60}\n"
          ]
        }
      ]
    },
    {
      "cell_type": "code",
      "source": [
        "# iii. WAP to check whether 40 is present in S1.\n",
        "if 40 in S1:\n",
        "    print(\"It is present\")\n",
        "else: \n",
        "    print(\"It is not present\")"
      ],
      "metadata": {
        "colab": {
          "base_uri": "https://localhost:8080/"
        },
        "id": "8LnJOphh7J5Q",
        "outputId": "d47911cb-890b-4479-9a4c-15fc5d9fedbe"
      },
      "execution_count": null,
      "outputs": [
        {
          "output_type": "stream",
          "name": "stdout",
          "text": [
            "It is present\n"
          ]
        }
      ]
    },
    {
      "cell_type": "code",
      "source": [
        "# iv. WAP to find the union between S1 and S2.\n",
        "\n",
        "S3 = S1.union(S2)\n",
        "print(S3)"
      ],
      "metadata": {
        "colab": {
          "base_uri": "https://localhost:8080/"
        },
        "id": "NFoY9X3G7V-N",
        "outputId": "881cab0c-f860-40a8-80dd-6503afc269a1"
      },
      "execution_count": null,
      "outputs": [
        {
          "output_type": "stream",
          "name": "stdout",
          "text": [
            "{66, 70, 40, 80, 50, 20, 55, 90, 60}\n"
          ]
        }
      ]
    },
    {
      "cell_type": "code",
      "source": [
        "# v. WAP to find the intersection between S1 and S2.\n",
        "\n",
        "S4 = S1.intersection(S2)\n",
        "print(S4)"
      ],
      "metadata": {
        "colab": {
          "base_uri": "https://localhost:8080/"
        },
        "id": "Hfc4UWBK7YEl",
        "outputId": "15117503-c9c9-4aae-8adb-fa5eb724ead0"
      },
      "execution_count": null,
      "outputs": [
        {
          "output_type": "stream",
          "name": "stdout",
          "text": [
            "{40, 50, 60}\n"
          ]
        }
      ]
    },
    {
      "cell_type": "code",
      "source": [
        "# vi. WAP to find the S1 - S2.\n",
        "\n",
        "S5 = S1-S2\n",
        "print(S5)"
      ],
      "metadata": {
        "colab": {
          "base_uri": "https://localhost:8080/"
        },
        "id": "mpktQDoa7fJp",
        "outputId": "b7ffc07a-bc02-4e86-888f-1b3ff3d08b1d"
      },
      "execution_count": null,
      "outputs": [
        {
          "output_type": "stream",
          "name": "stdout",
          "text": [
            "{66, 20, 55}\n"
          ]
        }
      ]
    },
    {
      "cell_type": "code",
      "source": [
        "# question 4 i. WAP to print 100 random strings whose length between 6 and 8.\n",
        "\n",
        "import string\n",
        "import secrets\n",
        "import random\n",
        "\n",
        "X = []\n",
        "for i in range(100):\n",
        "    N = random.randint(6,8)\n",
        "    res = \"\".join(secrets.choice(string.ascii_letters+string.digits+string.punctuation) for i in range(N))\n",
        "    X.append(res)\n",
        "print(X)"
      ],
      "metadata": {
        "colab": {
          "base_uri": "https://localhost:8080/"
        },
        "id": "AG1IK_Zj8ICj",
        "outputId": "c4439991-9082-4c8c-e325-1eb8f5df2662"
      },
      "execution_count": null,
      "outputs": [
        {
          "output_type": "stream",
          "name": "stdout",
          "text": [
            "['%0ckeb%s', '^kU1gX', 'tG&BU2HO', '*8mY|i`\\\\', 'X0MHL9.l', 'kDvwzL', 'l1}/DRC', 'Uh9V.;w', '>QwBI^', '|3|5v<', '7[1\\\\O8AJ', '=^bfGUqX', '@@@^CaL', '8:xQYS9', 'p(4\\\\2S0h', 'leJsk]', '!Yxudgs', 'L`2P@h', '!-\"dL1', '8:LU2L', 'kj<rPs>~', 'K6c02n', '2HQQ&Qf', \"'f=I7NuV\", 'pf`0uL', '(J21J)R', '4YmIVdV#', 'olPv0Tn', 'OpJ|ZmB', ';}-O4Wx', '2Me,/,>', 'im;6S+', '!~S6H?:', '`9R\\\\@y', ']@~isO', '{M;Ybv', '&|zl>u', 'jxAHLPB', 'mIFN0dIw', '+@}>g5n`', '8vxoCL!', 'J/IP}J@]', 'a*.?]vf[', '{JNb\"]DX', 'njn]SU', 'nBP~lO', 'Eft`,8}', '67:z)Mz', 'Blo3mI|_', 'K\\\\;Ash', \"}6vA'L;\", ';/.xak', '\"zKl&LIh', 'A-VVu<', 'DyGYu*', \"m-M5U'Zc\", 'U7H!ttQ8', 'sD49#%', ')U)5*JcB', 'stQyJ+\"=', '3}\"+g*N?', '6D`D~,', 'M?caDUl`', 'Ple<6eS(', 'a+^Kc+lg', '2ffTInD', 'by_(Mfr<', ')P]AlUD', 'YeQ.iqKl', 'h}M_5rf', \"kx'%!2\", 'kJFJo}i.', 'M>s}jVu', '={yVD]', 'PWkX(HTH', 'xh[q}z~Q', '1CV:zth,', '${NIE/*N', 'PSUEowvB', ';gM}{#f.', 'iza61Q.b', '1Lp?Y)H', '.xZSc%R`', 'W2M)S<R', 'eDEO?U|M', 'w#pXb$%', \"x'!rB>|\", '9btJLT', 'io5(m5f.', 'Rg,,>-', 'Z])SH+z', 'L^OlT,+Y', 'n@kcR>', 'beGuT5', '$\"jmvG', '5Kk)Ea', '@e!jh\\\\#', '-AvCz:', 'OZwU(a,O', 'c>VSo3']\n"
          ]
        }
      ]
    },
    {
      "cell_type": "code",
      "source": [
        "# ii. WAP to print all prime numbers between 600 and 800.\n",
        "\n",
        "def is_prime(n):\n",
        "    if n == 1:\n",
        "        return False\n",
        "    i = 2\n",
        "    while i*i <= n :\n",
        "        if n%i == 0:\n",
        "            return False\n",
        "        i+= 1\n",
        "    return True\n",
        "prime_list = []\n",
        "for j in range(600,801):\n",
        "    if is_prime(j):\n",
        "        prime_list.append(j)\n",
        "print(prime_list)\n"
      ],
      "metadata": {
        "colab": {
          "base_uri": "https://localhost:8080/"
        },
        "id": "YU9gn9QLD-4I",
        "outputId": "3364e354-f44e-4b62-96de-260e67ef87dd"
      },
      "execution_count": null,
      "outputs": [
        {
          "output_type": "stream",
          "name": "stdout",
          "text": [
            "[601, 607, 613, 617, 619, 631, 641, 643, 647, 653, 659, 661, 673, 677, 683, 691, 701, 709, 719, 727, 733, 739, 743, 751, 757, 761, 769, 773, 787, 797]\n"
          ]
        }
      ]
    },
    {
      "cell_type": "code",
      "source": [
        "# iii. WAP to print all numbers between 100 and 1000 that are divisible by 7 and 9.\n",
        "\n",
        "num_list = []\n",
        "for i in range(100,1001):\n",
        "    if i%63==0:\n",
        "        num_list.append(i)\n",
        "print(num_list)"
      ],
      "metadata": {
        "colab": {
          "base_uri": "https://localhost:8080/"
        },
        "id": "33aFycWbEGMx",
        "outputId": "4eaf753d-b4d1-41c1-c110-9715fc22a336"
      },
      "execution_count": null,
      "outputs": [
        {
          "output_type": "stream",
          "name": "stdout",
          "text": [
            "[126, 189, 252, 315, 378, 441, 504, 567, 630, 693, 756, 819, 882, 945]\n"
          ]
        }
      ]
    },
    {
      "cell_type": "code",
      "source": [
        "# Q5. WAP to create two lists of 10 random numbers between 10 and 30;\n",
        "\n",
        "import random\n",
        "r1 = [random.randint(10,30) for _ in range(10)]\n",
        "print(r1)\n",
        "r2 = [random.randint(10,30) for _ in range(10)]\n",
        "print(r2)"
      ],
      "metadata": {
        "colab": {
          "base_uri": "https://localhost:8080/"
        },
        "id": "Rz24GEvoEWXh",
        "outputId": "e23778d2-f877-4dc1-aeb6-03a262f31d68"
      },
      "execution_count": null,
      "outputs": [
        {
          "output_type": "stream",
          "name": "stdout",
          "text": [
            "[18, 30, 15, 21, 11, 11, 18, 12, 15, 13]\n",
            "[26, 13, 15, 24, 15, 19, 19, 25, 25, 16]\n"
          ]
        }
      ]
    },
    {
      "cell_type": "code",
      "source": [
        "# i. Common numbers in the two lists\n",
        "\n",
        "a = set(r1)\n",
        "b = set(r2)\n",
        "c = a&b\n",
        "print(c)"
      ],
      "metadata": {
        "colab": {
          "base_uri": "https://localhost:8080/"
        },
        "id": "v7FMfHVKEd37",
        "outputId": "954a6722-978d-4b52-b5c3-6353fc0bbc56"
      },
      "execution_count": null,
      "outputs": [
        {
          "output_type": "stream",
          "name": "stdout",
          "text": [
            "{13, 15}\n"
          ]
        }
      ]
    },
    {
      "cell_type": "code",
      "source": [
        "# ii. Unique numbers in both the list\n",
        "\n",
        "a = set(r1)\n",
        "b = set(r2)\n",
        "print(a)\n",
        "print(b)\n",
        "print(a-(a&b))\n",
        "print(b-(b&a))"
      ],
      "metadata": {
        "id": "RWvR3SiEEi_6"
      },
      "execution_count": null,
      "outputs": []
    },
    {
      "cell_type": "code",
      "source": [
        "# iii. Minimum in both the list\n",
        "\n",
        "min_r1 = min(r1)\n",
        "min_r2 = min(r2)\n",
        "print(min_r1)\n",
        "print(min_r2)"
      ],
      "metadata": {
        "colab": {
          "base_uri": "https://localhost:8080/"
        },
        "id": "feSSn1aoEnW8",
        "outputId": "11d67e0f-85f2-4c3f-ba42-e68f8e8ce24c"
      },
      "execution_count": null,
      "outputs": [
        {
          "output_type": "stream",
          "name": "stdout",
          "text": [
            "11\n",
            "13\n"
          ]
        }
      ]
    },
    {
      "cell_type": "code",
      "source": [
        "# iv. Maximum in both the list\n",
        "\n",
        "print(max(r1))\n",
        "print(max(r2))"
      ],
      "metadata": {
        "colab": {
          "base_uri": "https://localhost:8080/"
        },
        "id": "AsTVBz4REv8H",
        "outputId": "52a8b933-76cd-4990-af7f-a13bec5597e4"
      },
      "execution_count": null,
      "outputs": [
        {
          "output_type": "stream",
          "name": "stdout",
          "text": [
            "30\n",
            "26\n"
          ]
        }
      ]
    },
    {
      "cell_type": "code",
      "source": [
        "# v. Sum of both the lists\n",
        "\n",
        "print(sum(r1))\n",
        "print(sum(r2))"
      ],
      "metadata": {
        "colab": {
          "base_uri": "https://localhost:8080/"
        },
        "id": "N1oku_RAFZuw",
        "outputId": "9944d98f-1c89-4a38-9b3f-d2822b695151"
      },
      "execution_count": null,
      "outputs": [
        {
          "output_type": "stream",
          "name": "stdout",
          "text": [
            "164\n",
            "197\n"
          ]
        }
      ]
    },
    {
      "cell_type": "code",
      "source": [
        "# Question 6 WAP to create a list of 100 random numbers between 100 and 900. Count and print the:\n",
        "\n",
        "import random\n",
        "\n",
        "r = [random.randint(100,900) for _ in range(100)]\n",
        "print(r)"
      ],
      "metadata": {
        "colab": {
          "base_uri": "https://localhost:8080/"
        },
        "id": "MME212RSFpAi",
        "outputId": "58cb4e45-349c-48a1-b46a-4194d5b1edd2"
      },
      "execution_count": null,
      "outputs": [
        {
          "output_type": "stream",
          "name": "stdout",
          "text": [
            "[115, 884, 309, 389, 876, 764, 591, 801, 113, 535, 354, 629, 215, 610, 305, 899, 862, 604, 885, 781, 453, 352, 768, 308, 586, 419, 384, 598, 153, 466, 652, 669, 296, 322, 367, 889, 168, 639, 868, 222, 262, 657, 211, 489, 349, 548, 783, 591, 275, 890, 161, 881, 475, 826, 789, 642, 429, 651, 158, 409, 128, 683, 643, 575, 579, 752, 304, 350, 665, 366, 580, 615, 118, 323, 562, 242, 716, 304, 303, 163, 334, 529, 347, 865, 337, 753, 818, 255, 877, 489, 507, 795, 540, 238, 838, 440, 258, 183, 486, 668]\n"
          ]
        }
      ]
    },
    {
      "cell_type": "code",
      "source": [
        "# i. All odd numbers\n",
        "\n",
        "r_odd = [x for x in r if x%2!=0]\n",
        "print(r_odd)\n",
        "print(len(r_odd))"
      ],
      "metadata": {
        "id": "b1wgfwUIFtO3"
      },
      "execution_count": null,
      "outputs": []
    },
    {
      "cell_type": "code",
      "source": [
        "# ii. All even numbers\n",
        "\n",
        "r_even = [x for x in r if x%2 == 0]\n",
        "print(r_even)\n",
        "print(len(r_even))"
      ],
      "metadata": {
        "id": "DSOm2ND4Fw5v"
      },
      "execution_count": null,
      "outputs": []
    },
    {
      "cell_type": "code",
      "source": [
        "# iii. All prime numbers\n",
        "\n",
        "r_prime = [ x for x in r if is_prime(x)]\n",
        "print(r_prime)\n",
        "print(len(r_prime))"
      ],
      "metadata": {
        "id": "pt9jYhe6F1u6"
      },
      "execution_count": null,
      "outputs": []
    },
    {
      "cell_type": "code",
      "source": [
        "# Question 7. D is a dictionary defined as D={1:\"One\",2:\"Two\",3:\"Three\",4:\"Four\", 5:\"Five\"}.\n",
        "\n",
        "D = {1:\"One\",2:\"Two\",3:\"Three\",4:\"Four\", 5:\"Five\"}\n",
        "print(D)"
      ],
      "metadata": {
        "colab": {
          "base_uri": "https://localhost:8080/"
        },
        "id": "utpnvd2DHM9h",
        "outputId": "1c3889e1-2346-460e-8910-4a8c47adeb28"
      },
      "execution_count": null,
      "outputs": [
        {
          "output_type": "stream",
          "name": "stdout",
          "text": [
            "{1: 'One', 2: 'Two', 3: 'Three', 4: 'Four', 5: 'Five'}\n"
          ]
        }
      ]
    },
    {
      "cell_type": "code",
      "source": [
        "print(\"{:<10} {:<10} \".format(\"Keys\",\"Values\"))\n",
        "for key,value in D.items():\n",
        "    print(\"{:<10} {:<10} \".format(key,value))"
      ],
      "metadata": {
        "colab": {
          "base_uri": "https://localhost:8080/"
        },
        "id": "2bP-KjGRHRho",
        "outputId": "418abae1-fa2e-4465-c1ce-9b1d7c44cdd0"
      },
      "execution_count": null,
      "outputs": [
        {
          "output_type": "stream",
          "name": "stdout",
          "text": [
            "Keys       Values     \n",
            "1          One        \n",
            "2          Two        \n",
            "3          Three      \n",
            "4          Four       \n",
            "5          Five       \n"
          ]
        }
      ]
    },
    {
      "cell_type": "code",
      "source": [
        "# Question 8. L is a list defined as L={\"One\",\"Two\",\"Three\",\"Four\",\"Five\"}.\n",
        "\n",
        "L = [\"One\",\"Two\",\"Three\",\"Four\",\"Five\"]\n",
        "print(L)\n",
        "\n",
        "D = {}\n",
        "for i in L:\n",
        "    D[i] = len(i)\n",
        "print(\"{:<10} {:<10} \".format(\"Element\",\"Size\"))\n",
        "for key,value in D.items():\n",
        "    print(\"{:<10} {:<10} \".format(key,value))"
      ],
      "metadata": {
        "colab": {
          "base_uri": "https://localhost:8080/"
        },
        "id": "FVXaCuxDHY9u",
        "outputId": "1a01cb9b-2c06-4710-c6ec-c770ee0f873f"
      },
      "execution_count": null,
      "outputs": [
        {
          "output_type": "stream",
          "name": "stdout",
          "text": [
            "['One', 'Two', 'Three', 'Four', 'Five']\n",
            "Element    Size       \n",
            "One        3          \n",
            "Two        3          \n",
            "Three      5          \n",
            "Four       4          \n",
            "Five       4          \n"
          ]
        }
      ]
    },
    {
      "cell_type": "code",
      "source": [
        "# Question 9. Write to the file 100 random strings whose length between 10 and 15.\n",
        "\n",
        "import string\n",
        "import secrets\n",
        "import random\n",
        "\n",
        "X = []\n",
        "for i in range(100):\n",
        "    N = random.randint(10,15)\n",
        "    res = \"\".join(secrets.choice(string.ascii_letters+string.digits+string.punctuation) for i in range(N))\n",
        "    X.append(res)\n",
        "print(X)"
      ],
      "metadata": {
        "colab": {
          "base_uri": "https://localhost:8080/"
        },
        "id": "w8XUbcZiIUlA",
        "outputId": "faab4116-88bb-43b9-dd9c-e8fe7252e7b0"
      },
      "execution_count": null,
      "outputs": [
        {
          "output_type": "stream",
          "name": "stdout",
          "text": [
            "['\\\\N[uDkzZq[+N', \"Lq\\\\w;H?%,'C?\", 'Up9PJzt0#N', 'Cb[}$qZk\"?b', '3)i$ne#I.No\"T$7', 'v!^/CYFY,bR', '3mKR@Nw?\\\\W~b[', '^.,FWK)6(#oz', 'Y,E/gm}tOj', 'sXlLBKRb[g+D(', 'D#GV%\\\\tH/rxf', 'VU/^w}z?n~\\\\', '*(N646<FhZS', 'a0=G!%VjDZv@?/F', '&8<>EC<\\\\7&', 'fG2X9%A>vlw3-', 'xDrdJpTN\"J-fC\"m', 'mU>{677\\'\"(a', 'uWpCDNQkr8', 'yh0{DBgY_V@}', \"\\\\_KCdbA`\\\\`y'\", \"DdUKQ`*evbk'9b\", 'q1SJh?F$z/GA5{', '1n|XFl$8J1>KG$', \"&eA'B_\\\\]qWO\", 'V065O)PH8ax6Y2\"', 'R>XGtTiAkYBBLex', '}$k5TNXID&fscW', 'D\\\\[X4QU]QEk', \"Px*j~'30_8g&txh\", '[]DgKT)JiQ_3Dcw', 'udq3Jlp^q4/LsW', '2iBIA!j;l*', '6LJ_4ak|@^_8', 'd1,?:4twX[|', '@|v4s/8Ri.+', '[hXN-7qrC0Z=nSr', '0)d`cY?<tl[^SW', 'f\\\\D]t#Nf}w-n91', '8rdO&^2s*<oopz4', 'M1j<@QJdx9', 'n?\"cDl\\\\#EW6B]v:', 'I~s]S=Kf,Foe', '@Rl<G@CHlFJ', 'xJ-BGy*5!*', '{j!)^Y73+P', 'WcT>v5-2Ea|q', \"2Ni76zGLGs8X'=\", '[c,YXN<\"d*Cdx*=', \")(e9a'P>[\\\\\", 'xD*cairkdxYz', 'ggk6m=E*Pt9Uz6Y', 'ao>I}.kASS&KQA(', \"lJO'T.s_<h>\", '~$te-7|Gwbvd0', 'amm;+yuush4!', 'G(D*ya.5<V|', ',?,i*FS1zFPb[~', 'YSptZ8f^psE=A', 'Lz5;2K@8215>E`', 's/):xn{)q)oT', 'XVxI4{s/6[', \"ZvkLGHl'y3ofE\", 'dVRNkWXZ,H', 'jxvbWg7Trn', '|lyp5PnVypvl', 'A@+P@$imC@tb|1#', '}(An`%qZrF', 'Nm>xY5td5K(Lp', 'z$!\"p[TZ\\\\*DAU', \"UlL0*Rp).Cp'\", '45!1_R{8\"pK&Z', '-7;c{\"0f!x>UIlq', '?sxC\\'}L@6-\"M', '9wUmQ3Dpgk>', \"'?OE?d{j?P:HPe\", '-*ZacqDJUP?', \"I90[cJ`<'|8[ld\", '4@0ZE&kS8_#2^^', 'gA:HamTw^|y', '`XH?wU7;E.', 'WvN@dB`Jtp~', '#}MK_]\"B5FM\\'', '$.VeCEVed~h}%5C', '_`n2pw}YJHT1vv', 'P_lT*&roDC7W7!', '3bsD3=850?bX', 'd:?&2zoo0jq7', \"]DCTOf'?wBQ+Ysf\", 'WqUCI}H4[$Em', '|MRfG+X-([', 'B`8uB27dEO', 'x&NB,2QdJHp7d', 'dBBz0PX>GYNX', 'OR_uN,Dpon|}', ';4;i#H0@9<Ngg3', 'CjqGHJ>>!l', '(=^)WY+f)\\\\', '6gu$}C#_-k`', 'g1:nI}dw~gfX:m']\n"
          ]
        }
      ]
    },
    {
      "cell_type": "code",
      "source": [
        "# Question 10. Write to the file all prime numbers between 600 and 800.\n",
        "\n",
        "def is_prime(n):\n",
        "    if n == 1:\n",
        "        return False\n",
        "    i = 2\n",
        "    while i*i <= n :\n",
        "        if n%i == 0:\n",
        "            return False\n",
        "        i+= 1\n",
        "    return True\n",
        "prime_list = []\n",
        "for j in range(600,801):\n",
        "    if is_prime(j):\n",
        "        prime_list.append(j)\n",
        "print(prime_list)"
      ],
      "metadata": {
        "colab": {
          "base_uri": "https://localhost:8080/"
        },
        "id": "vhOnvB4ZIZYv",
        "outputId": "afd0a9ce-a82d-4d7c-d707-785a139a90fa"
      },
      "execution_count": null,
      "outputs": [
        {
          "output_type": "stream",
          "name": "stdout",
          "text": [
            "[601, 607, 613, 617, 619, 631, 641, 643, 647, 653, 659, 661, 673, 677, 683, 691, 701, 709, 719, 727, 733, 739, 743, 751, 757, 761, 769, 773, 787, 797]\n"
          ]
        }
      ]
    },
    {
      "cell_type": "code",
      "source": [
        "# Question 11. WAP to calculate the time taken by a program.\n",
        "\n",
        "import timeit\n",
        "\n",
        "mysetup = \"from math import sqrt\"\n",
        " \n",
        "mycode = '''\n",
        "def example(): \n",
        "    mylist = [] \n",
        "    for x in range(100): \n",
        "        mylist.append(sqrt(x))\n",
        "'''\n",
        "print(timeit.timeit(setup = mysetup,\n",
        "                  stmt = mycode,\n",
        "                  number = 100000)) "
      ],
      "metadata": {
        "colab": {
          "base_uri": "https://localhost:8080/"
        },
        "id": "5Il7ZkJCIg7E",
        "outputId": "206a85ad-c8d6-4aff-8427-5c4ab2934109"
      },
      "execution_count": null,
      "outputs": [
        {
          "output_type": "stream",
          "name": "stdout",
          "text": [
            "0.022813855000094918\n"
          ]
        }
      ]
    },
    {
      "cell_type": "code",
      "source": [
        "# Question 12. WAP to sort following number of elements in a list, calculate time taken and plot the graph. \n",
        "\n",
        "import timeit\n",
        "import random\n",
        "d = {}\n",
        "for i in range(1,6):\n",
        "    mysetup = \"import random\"\n",
        "\n",
        "    mycode = '''def x(): \n",
        "                    mylist = [random.randint(0,1000) for _ in range(i*5000)] \n",
        "                    mylist.sort()\n",
        "            '''\n",
        "    time = timeit.timeit(setup = mysetup,stmt = mycode,number = 1000000)\n",
        "    d[i*5] = time\n",
        "print(\"{:<30} {:<30}\".format(\"Number of elements(*1000)\", \"Time to sort\"))\n",
        "for key,value in d.items():\n",
        "    print(\"{:<30} {:<30}\".format(key,value))"
      ],
      "metadata": {
        "colab": {
          "base_uri": "https://localhost:8080/"
        },
        "id": "gOjRk05QJBAL",
        "outputId": "98f1d91d-7820-4cd8-df3a-accae1a8b667"
      },
      "execution_count": null,
      "outputs": [
        {
          "output_type": "stream",
          "name": "stdout",
          "text": [
            "Number of elements(*1000)      Time to sort                  \n",
            "5                              0.11829343900080858           \n",
            "10                             0.1096848780007349            \n",
            "15                             0.10900724099974468           \n",
            "20                             0.10895784900003491           \n",
            "25                             0.11762005499986117           \n"
          ]
        }
      ]
    },
    {
      "cell_type": "code",
      "source": [
        "# Q13. WAP to create a dictionary of student marks in five subjects and you have to find the student having maximum and minimum average marks.\n",
        "\n",
        "d = {}\n",
        "d[1] = [87,88, 68, 68,87]\n",
        "d[2] = [95,78,67,55,90]\n",
        "d[3] = [66,89,92,87,76]\n",
        "d[4] = [67,73,89,92,87]\n",
        "d[5] = [82,88,76,66,87]\n",
        "print(\"{:<10} {:<10} {:<10} {:<10} {:<10} {:<10}\".format(\"Roll no.\", \"Physics\", \"Maths\", \"Chemistry\", \"English\", \"Biology\"))\n",
        "for key,value in d.items():\n",
        "    phy,math,che,eng,hin = value\n",
        "    print(\"{:<10} {:<10} {:<10} {:<10} {:<10} {:<10}\".format(key,phy,math,che,eng,hin))\n",
        "\n",
        "for i in d:\n",
        "    d[i].append(sum(d[i])/5)\n",
        "print(\"{:<10} {:<10} {:<10} {:<10} {:<10} {:<10} {:<10}\".format(\"Roll no.\", \"Physics\", \"Maths\", \"Chemistry\", \"English\", \"Hindi\", \"Average\"))\n",
        "for key,value in d.items():\n",
        "    phy,math,che,eng,hin,avg = value\n",
        "    print(\"{:<10} {:<10} {:<10} {:<10} {:<10} {:<10} {:<10}\".format(key,phy,math,che,eng,hin,avg))    \n",
        "\n",
        "avg_dict = {}\n",
        "for i in d:\n",
        "    avg_dict[i] = d[i][-1]\n",
        "print(avg_dict)    \n",
        "\n",
        "max_key = max(avg_dict, key=avg_dict.get)\n",
        "print(max_key)\n",
        "min_key = min(avg_dict, key=avg_dict.get)\n",
        "print(min_key)\n"
      ],
      "metadata": {
        "colab": {
          "base_uri": "https://localhost:8080/"
        },
        "id": "XyYKAdvnJi8s",
        "outputId": "9362b9cf-85a5-4975-f25b-eca4cf012186"
      },
      "execution_count": null,
      "outputs": [
        {
          "output_type": "stream",
          "name": "stdout",
          "text": [
            "Roll no.   Physics    Maths      Chemistry  English    Biology   \n",
            "1          87         88         68         68         87        \n",
            "2          95         78         67         55         90        \n",
            "3          66         89         92         87         76        \n",
            "4          67         73         89         92         87        \n",
            "5          82         88         76         66         87        \n",
            "Roll no.   Physics    Maths      Chemistry  English    Hindi      Average   \n",
            "1          87         88         68         68         87         79.6      \n",
            "2          95         78         67         55         90         77.0      \n",
            "3          66         89         92         87         76         82.0      \n",
            "4          67         73         89         92         87         81.6      \n",
            "5          82         88         76         66         87         79.8      \n",
            "{1: 79.6, 2: 77.0, 3: 82.0, 4: 81.6, 5: 79.8}\n",
            "3\n",
            "2\n"
          ]
        }
      ]
    }
  ]
}