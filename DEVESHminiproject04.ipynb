{
  "nbformat": 4,
  "nbformat_minor": 0,
  "metadata": {
    "colab": {
      "provenance": [],
      "authorship_tag": "ABX9TyNJoYUBDkF9a2euozlRVwNN",
      "include_colab_link": true
    },
    "kernelspec": {
      "name": "python3",
      "display_name": "Python 3"
    },
    "language_info": {
      "name": "python"
    }
  },
  "cells": [
    {
      "cell_type": "markdown",
      "metadata": {
        "id": "view-in-github",
        "colab_type": "text"
      },
      "source": [
        "<a href=\"https://colab.research.google.com/github/dave165189/Summer-school-assignment/blob/main/DEVESHminiproject04.ipynb\" target=\"_parent\"><img src=\"https://colab.research.google.com/assets/colab-badge.svg\" alt=\"Open In Colab\"/></a>"
      ]
    },
    {
      "cell_type": "code",
      "execution_count": 1,
      "metadata": {
        "colab": {
          "base_uri": "https://localhost:8080/"
        },
        "id": "AvkHWN0hkG3K",
        "outputId": "245518cd-0a36-4124-9859-51196406694a"
      },
      "outputs": [
        {
          "output_type": "stream",
          "name": "stdout",
          "text": [
            "Output file created successfully.\n"
          ]
        }
      ],
      "source": [
        "import csv\n",
        "\n",
        "input_file = \"/content/Mini Project - Marks Adding.csv\"  # Replace with your input CSV file path\n",
        "output_file = \"total_marks.txt\"  # Replace with your output file path\n",
        "\n",
        "total_marks = 0\n",
        "\n",
        "with open(input_file, \"r\") as file:\n",
        "    csv_reader = csv.reader(file)\n",
        "    next(csv_reader)  # Skip the header row\n",
        "    \n",
        "    for row in csv_reader:\n",
        "        marks = float(row[0])  # Assuming the marks are in the first column\n",
        "        total_marks += marks\n",
        "\n",
        "with open(output_file, \"w\") as file:\n",
        "    file.write(f\"Total marks: {total_marks}\")\n",
        "    \n",
        "print(\"Output file created successfully.\")\n"
      ]
    }
  ]
}