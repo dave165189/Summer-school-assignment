{
  "nbformat": 4,
  "nbformat_minor": 0,
  "metadata": {
    "colab": {
      "provenance": [],
      "authorship_tag": "ABX9TyNQcYLFH7osvfad/sPEuJGP",
      "include_colab_link": true
    },
    "kernelspec": {
      "name": "python3",
      "display_name": "Python 3"
    },
    "language_info": {
      "name": "python"
    }
  },
  "cells": [
    {
      "cell_type": "markdown",
      "metadata": {
        "id": "view-in-github",
        "colab_type": "text"
      },
      "source": [
        "<a href=\"https://colab.research.google.com/github/dave165189/Summer-school-assignment/blob/main/DEVESHMini_Project_01.ipynb\" target=\"_parent\"><img src=\"https://colab.research.google.com/assets/colab-badge.svg\" alt=\"Open In Colab\"/></a>"
      ]
    },
    {
      "cell_type": "code",
      "execution_count": null,
      "metadata": {
        "colab": {
          "base_uri": "https://localhost:8080/"
        },
        "id": "r_jCFVbgpHXR",
        "outputId": "046708e8-3092-452d-8fa5-0e7ff13ea5f0"
      },
      "outputs": [
        {
          "output_type": "stream",
          "name": "stdout",
          "text": [
            "(11, 3, -12, 6, -8)\n",
            "(6, 2, 3, -8, -3)\n",
            "(1, -6, 3, 11, -9)\n",
            "(-3, -5, 9, -8, 7)\n",
            "(-6, 6, 3, 1, -4)\n",
            "(-5, -3, 6, 11, -9)\n",
            "(11, -7, 9, -4, -9)\n",
            "(2, 3, -7, -9, 11)\n",
            "(9, 2, -9, 3, -5)\n",
            "(6, 2, -3, -8, 3)\n",
            "(-6, 3, -9, 11, 1)\n",
            "(1, -12, 6, 2, 3)\n",
            "(11, 7, -7, 1, -12)\n",
            "(-8, 9, 7, -3, -5)\n",
            "(-12, -4, 11, -2, 7)\n",
            "(-4, 11, 2, -3, -6)\n",
            "(-3, 7, -4, -2, 2)\n",
            "(1, 7, -6, -4, 2)\n",
            "(7, -4, -9, -3, 9)\n",
            "(9, -5, 1, -8, 3)\n",
            "(-3, 9, -5, -7, 6)\n",
            "(-2, -8, 7, 6, -3)\n",
            "(9, -3, -2, -7, 3)\n",
            "\n",
            "Total Sets:  23 \n",
            "\n"
          ]
        },
        {
          "output_type": "stream",
          "name": "stderr",
          "text": [
            "<ipython-input-1-093685ab2240>:13: DeprecationWarning: Sampling from a set deprecated\n",
            "since Python 3.9 and will be removed in a subsequent version.\n",
            "  Chromosome = r.sample(Set,SetSize)\n"
          ]
        }
      ],
      "source": [
        "# 1. Problem Statement: Find all the subsets from a set of numbers whose sum is zero. Constraint: Subset size must be 5 Set={-12, -3, -6, 7, 2, -2, 6, 3, 9, -7, -5, -8, 1, 11, -9, -4}\n",
        "\n",
        "import random as r\n",
        "\n",
        "Set         = set([-12, -3, -6, 7, 2, -2, 6, 3, 9, -7, -5, -8, 1, 11, -9, -4])\n",
        "SetSize     = 5\n",
        "ResultList  = set()    \n",
        "Iterations  = 1000  \n",
        "\n",
        "# Loop till number of Iterations\n",
        "for i in range(Iterations):\n",
        "    # Select number of elements from Set\n",
        "    Chromosome = r.sample(Set,SetSize)\n",
        "    \n",
        "    # Sum the number of elements in the Chromosome\n",
        "    if sum(Chromosome) == 0:\n",
        "        ResultList.add(tuple(Chromosome))\n",
        "\n",
        "# Print all the sets whose sum is zero\n",
        "for r in ResultList:\n",
        "\tprint (r)\n",
        "\n",
        "# Print total sets\n",
        "print (\"\\nTotal Sets: \", len(ResultList), \"\\n\")       \n",
        "\n"
      ]
    },
    {
      "cell_type": "code",
      "source": [
        "#2. Problem Statement: Find all the subsets from a set of numbers whose sum is zero. Constraint: Subset size must be 3 to 6 only\n",
        "#Set={-12, -3, -6, 7, 2, -2, 6, 3, 9, -7, -5, -8, 1, 11, -9, -4}\n",
        "\n",
        "import random as r\n",
        "\n",
        "\n",
        "Set         = set([-12, -3, -6, 7, 2, -2, 6, 3, 9, -7, -5, -8, 1, 11, -9, -4])\n",
        "SetLB       = 3\n",
        "SetUB       = 6\n",
        "ResultList  = set()    # Store Result List i.e. list of sets whose sum is zero\n",
        "Iterations  = 1000   # Number of Inerations\n",
        "\n",
        "\n",
        "\n",
        "for i in range(Iterations):\n",
        "    # Select set size randomly\n",
        "    SetSize = r.randint(SetLB,SetUB)\n",
        "\t\n",
        "    # Select number of elements from Set\n",
        "    Chromosome = r.sample(Set,SetSize)\n",
        "    Chromosome.sort()\n",
        "\n",
        "    # Sum the number of elements in the Chromosome\n",
        "    if sum(Chromosome) == 0:\n",
        "        ResultList.add(tuple(Chromosome))\n",
        "\n",
        "# Print all the sets whose sum is zero\n",
        "for r in ResultList:\n",
        "\tprint (r)\n",
        "\n",
        "# Print total sets\n",
        "print (\"\\nTotal Sets: \", len(ResultList))"
      ],
      "metadata": {
        "colab": {
          "base_uri": "https://localhost:8080/"
        },
        "id": "k6et3f_rrVQG",
        "outputId": "b65b3b48-0142-4406-a300-71463bd4352a"
      },
      "execution_count": null,
      "outputs": [
        {
          "output_type": "stream",
          "name": "stdout",
          "text": [
            "(-12, -9, -2, 3, 9, 11)\n",
            "(-9, 2, 7)\n",
            "(-9, -8, -3, 9, 11)\n",
            "(-9, -7, 2, 3, 11)\n",
            "(-8, -6, 1, 6, 7)\n",
            "(-12, 3, 9)\n",
            "(-4, -3, -2, 9)\n",
            "(-7, -3, -2, 3, 9)\n",
            "(-7, -5, -4, 3, 6, 7)\n",
            "(-6, 1, 2, 3)\n",
            "(-6, -5, -2, 2, 11)\n",
            "(-9, -2, 11)\n",
            "(-6, -4, -2, 3, 9)\n",
            "(-4, -2, 6)\n",
            "(-6, -4, -2, 2, 3, 7)\n",
            "(-9, -6, 6, 9)\n",
            "(-9, -8, -2, 1, 7, 11)\n",
            "(-12, -5, -3, 9, 11)\n",
            "(-7, -3, -2, 1, 11)\n",
            "(-12, -8, -6, 6, 9, 11)\n",
            "(-9, 3, 6)\n",
            "(-4, -3, 1, 6)\n",
            "\n",
            "Total Sets:  22\n"
          ]
        },
        {
          "output_type": "stream",
          "name": "stderr",
          "text": [
            "<ipython-input-3-5923f0dd13da>:20: DeprecationWarning: Sampling from a set deprecated\n",
            "since Python 3.9 and will be removed in a subsequent version.\n",
            "  Chromosome = r.sample(Set,SetSize)\n"
          ]
        }
      ]
    }
  ]
}