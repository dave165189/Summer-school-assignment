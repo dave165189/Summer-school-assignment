{
  "nbformat": 4,
  "nbformat_minor": 0,
  "metadata": {
    "colab": {
      "provenance": [],
      "authorship_tag": "ABX9TyPP0gWHAJsCZPffu9gULIDK",
      "include_colab_link": true
    },
    "kernelspec": {
      "name": "python3",
      "display_name": "Python 3"
    },
    "language_info": {
      "name": "python"
    }
  },
  "cells": [
    {
      "cell_type": "markdown",
      "metadata": {
        "id": "view-in-github",
        "colab_type": "text"
      },
      "source": [
        "<a href=\"https://colab.research.google.com/github/dave165189/Summer-school-assignment/blob/main/DEVESHminiproject03.ipynb\" target=\"_parent\"><img src=\"https://colab.research.google.com/assets/colab-badge.svg\" alt=\"Open In Colab\"/></a>"
      ]
    },
    {
      "cell_type": "code",
      "execution_count": null,
      "metadata": {
        "id": "jQEjdzajiv6m"
      },
      "outputs": [],
      "source": [
        "import time\n",
        "\n",
        "# Define the file sizes to test (in MB)\n",
        "file_sizes = [200, 400, 600, 800, 1000]\n",
        "\n",
        "# Define the file paths\n",
        "file_paths = ['file_200mb.txt', 'file_400mb.txt', 'file_600mb.txt', 'file_800mb.txt', 'file_1000mb.txt']\n",
        "\n",
        "# Define the command for each program\n",
        "commands = {\n",
        "    'C': './uppercase_c',\n",
        "    'C++': './uppercase_cpp',\n",
        "    'Java': 'java Uppercase',\n",
        "    'R': 'Rscript uppercase.R',\n",
        "    'Python': 'python uppercase.py'\n",
        "}\n",
        "\n",
        "# Measure the performance for each program and file size\n",
        "for program, command in commands.items():\n",
        "    print(f\"Performance for {program}:\")\n",
        "    for size, path in zip(file_sizes, file_paths):\n",
        "        start_time = time.time()\n",
        "       \n",
        "        print(f\"Processing {path} ({size} MB)...\")\n",
        "       \n",
        "        time.sleep(size / 1000)  # Simulating the conversion time based on the file size\n",
        "        end_time = time.time()\n",
        "        elapsed_time = end_time - start_time\n",
        "        print(f\"Time taken: {elapsed_time:.2f} seconds\")\n",
        "    print()\n"
      ]
    }
  ]
}